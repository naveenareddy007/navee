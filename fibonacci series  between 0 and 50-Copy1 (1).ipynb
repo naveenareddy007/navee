{
 "cells": [
  {
   "cell_type": "code",
   "execution_count": 1,
   "id": "d399bbd1",
   "metadata": {},
   "outputs": [
    {
     "name": "stdout",
     "output_type": "stream",
     "text": [
      "fibonacci series between 0 and 50:\n",
      "[0, 1, 1]\n",
      "fibonacci series between 0 and 50:\n",
      "[0, 1, 1, 2]\n",
      "fibonacci series between 0 and 50:\n",
      "[0, 1, 1, 2, 3]\n",
      "fibonacci series between 0 and 50:\n",
      "[0, 1, 1, 2, 3, 5]\n",
      "fibonacci series between 0 and 50:\n",
      "[0, 1, 1, 2, 3, 5, 8]\n",
      "fibonacci series between 0 and 50:\n",
      "[0, 1, 1, 2, 3, 5, 8, 13]\n",
      "fibonacci series between 0 and 50:\n",
      "[0, 1, 1, 2, 3, 5, 8, 13, 21]\n",
      "fibonacci series between 0 and 50:\n",
      "[0, 1, 1, 2, 3, 5, 8, 13, 21, 34]\n"
     ]
    }
   ],
   "source": [
    "fib_series = [0,1]\n",
    "while True:\n",
    "    next_num = fib_series[-1] + fib_series[-2]\n",
    "    if next_num>50:\n",
    "        break\n",
    "    fib_series.append(next_num)\n",
    "    print(\"fibonacci series between 0 and 50:\")\n",
    "    print(fib_series)"
   ]
  },
  {
   "cell_type": "code",
   "execution_count": null,
   "id": "6362e8a7",
   "metadata": {},
   "outputs": [],
   "source": []
  }
 ],
 "metadata": {
  "kernelspec": {
   "display_name": "Python 3 (ipykernel)",
   "language": "python",
   "name": "python3"
  },
  "language_info": {
   "codemirror_mode": {
    "name": "ipython",
    "version": 3
   },
   "file_extension": ".py",
   "mimetype": "text/x-python",
   "name": "python",
   "nbconvert_exporter": "python",
   "pygments_lexer": "ipython3",
   "version": "3.10.9"
  }
 },
 "nbformat": 4,
 "nbformat_minor": 5
}
